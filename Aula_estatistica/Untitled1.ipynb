{
 "cells": [
  {
   "cell_type": "code",
   "execution_count": 2,
   "id": "d8462559",
   "metadata": {},
   "outputs": [
    {
     "name": "stdout",
     "output_type": "stream",
     "text": [
      "[[0. 1.]\n",
      " [1. 0.]\n",
      " [0. 1.]\n",
      " [0. 1.]\n",
      " [1. 0.]\n",
      " [1. 0.]]\n"
     ]
    }
   ],
   "source": [
    "import numpy as np\n",
    "# Cria arrays com os dados\n",
    "idade = np.array([25, 30, 35, 40, 45, 50])\n",
    "sexo = np.array(['M', 'F', 'M', 'M', 'F', 'F'])\n",
    "# cria uma tabela com zeros\n",
    "tabela_freq = np.zeros((len(np.unique(idade)),\n",
    "len(np.unique(sexo))))\n",
    "for i, idade_cat in enumerate(np.unique(idade)):\n",
    "     for j, sexo_cat in enumerate(np.unique(sexo)):\n",
    "         tabela_freq[i, j] = np.sum(\n",
    "(idade == idade_cat) & (sexo == sexo_cat))\n",
    "print(tabela_freq)\n"
   ]
  },
  {
   "cell_type": "code",
   "execution_count": null,
   "id": "ea4f4b99",
   "metadata": {},
   "outputs": [],
   "source": []
  }
 ],
 "metadata": {
  "kernelspec": {
   "display_name": "Python 3 (ipykernel)",
   "language": "python",
   "name": "python3"
  },
  "language_info": {
   "codemirror_mode": {
    "name": "ipython",
    "version": 3
   },
   "file_extension": ".py",
   "mimetype": "text/x-python",
   "name": "python",
   "nbconvert_exporter": "python",
   "pygments_lexer": "ipython3",
   "version": "3.9.13"
  }
 },
 "nbformat": 4,
 "nbformat_minor": 5
}
