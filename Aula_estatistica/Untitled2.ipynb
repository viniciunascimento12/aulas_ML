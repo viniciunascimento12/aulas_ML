{
 "cells": [
  {
   "cell_type": "code",
   "execution_count": 1,
   "id": "3ca9760c",
   "metadata": {},
   "outputs": [],
   "source": [
    "import datetime\n",
    "import pandas as pd\n",
    "from datetime import date, time, datetime, timedelta\n",
    "import os\n",
    "from tqdm.auto import tqdm\n",
    "import warnings\n",
    "warnings.filterwarnings(\"ignore\")"
   ]
  },
  {
   "cell_type": "code",
   "execution_count": 2,
   "id": "d2ac8e54",
   "metadata": {},
   "outputs": [],
   "source": [
    "arquis = os.listdir('dados/')"
   ]
  },
  {
   "cell_type": "code",
   "execution_count": 3,
   "id": "5f989b6f",
   "metadata": {},
   "outputs": [],
   "source": [
    "arquis = sorted(arquis)"
   ]
  },
  {
   "cell_type": "code",
   "execution_count": 4,
   "id": "a64c907a",
   "metadata": {},
   "outputs": [],
   "source": [
    "df = pd.DataFrame()"
   ]
  },
  {
   "cell_type": "code",
   "execution_count": 5,
   "id": "548b9940",
   "metadata": {},
   "outputs": [
    {
     "data": {
      "application/vnd.jupyter.widget-view+json": {
       "model_id": "33f4065388c74d0a9d4452c23ef5a813",
       "version_major": 2,
       "version_minor": 0
      },
      "text/plain": [
       "  0%|          | 0/7 [00:00<?, ?it/s]"
      ]
     },
     "metadata": {},
     "output_type": "display_data"
    }
   ],
   "source": [
    "for name_arquivo in tqdm(arquis):\n",
    "        df = df.append(pd.read_csv('dados/'+name_arquivo, sep=';', header=0).fillna('0'))"
   ]
  },
  {
   "cell_type": "code",
   "execution_count": 33,
   "id": "1d2e4dfb",
   "metadata": {},
   "outputs": [],
   "source": [
    "df1 = df.loc[(df[\"estado\"]==\"CE\")]"
   ]
  },
  {
   "cell_type": "code",
   "execution_count": 51,
   "id": "16cdc564",
   "metadata": {},
   "outputs": [],
   "source": [
    "dt_inicio = '2020-11-01'\n",
    "dt_fim = '2020-12-31'"
   ]
  },
  {
   "cell_type": "code",
   "execution_count": 52,
   "id": "48278b02",
   "metadata": {},
   "outputs": [],
   "source": [
    "df1 = df1.query(f'data >= \"{dt_inicio}\" & data <= \"{dt_fim}\"')"
   ]
  },
  {
   "cell_type": "code",
   "execution_count": 53,
   "id": "e7a80c4d",
   "metadata": {},
   "outputs": [],
   "source": [
    "df_casos = []\n",
    "\n",
    "for municipio in df1['municipio'].unique():\n",
    "    dfAux = df1.query(f'municipio == \"{municipio}\"')\n",
    "    df_casos.append({'minicipio':municipio, 'qtd_casos':dfAux['casosNovos'].sum()})"
   ]
  },
  {
   "cell_type": "code",
   "execution_count": 45,
   "id": "4450987e",
   "metadata": {},
   "outputs": [
    {
     "data": {
      "text/html": [
       "<div>\n",
       "<style scoped>\n",
       "    .dataframe tbody tr th:only-of-type {\n",
       "        vertical-align: middle;\n",
       "    }\n",
       "\n",
       "    .dataframe tbody tr th {\n",
       "        vertical-align: top;\n",
       "    }\n",
       "\n",
       "    .dataframe thead th {\n",
       "        text-align: right;\n",
       "    }\n",
       "</style>\n",
       "<table border=\"1\" class=\"dataframe\">\n",
       "  <thead>\n",
       "    <tr style=\"text-align: right;\">\n",
       "      <th></th>\n",
       "      <th>minicipio</th>\n",
       "      <th>qtd_casos</th>\n",
       "    </tr>\n",
       "  </thead>\n",
       "  <tbody>\n",
       "    <tr>\n",
       "      <th>1</th>\n",
       "      <td>Abaiara</td>\n",
       "      <td>160</td>\n",
       "    </tr>\n",
       "    <tr>\n",
       "      <th>2</th>\n",
       "      <td>Acarape</td>\n",
       "      <td>1949</td>\n",
       "    </tr>\n",
       "    <tr>\n",
       "      <th>3</th>\n",
       "      <td>Acaraú</td>\n",
       "      <td>2760</td>\n",
       "    </tr>\n",
       "    <tr>\n",
       "      <th>4</th>\n",
       "      <td>Acopiara</td>\n",
       "      <td>1366</td>\n",
       "    </tr>\n",
       "    <tr>\n",
       "      <th>5</th>\n",
       "      <td>Aiuaba</td>\n",
       "      <td>76</td>\n",
       "    </tr>\n",
       "    <tr>\n",
       "      <th>...</th>\n",
       "      <td>...</td>\n",
       "      <td>...</td>\n",
       "    </tr>\n",
       "    <tr>\n",
       "      <th>180</th>\n",
       "      <td>Uruburetama</td>\n",
       "      <td>816</td>\n",
       "    </tr>\n",
       "    <tr>\n",
       "      <th>181</th>\n",
       "      <td>Uruoca</td>\n",
       "      <td>659</td>\n",
       "    </tr>\n",
       "    <tr>\n",
       "      <th>182</th>\n",
       "      <td>Varjota</td>\n",
       "      <td>1235</td>\n",
       "    </tr>\n",
       "    <tr>\n",
       "      <th>183</th>\n",
       "      <td>Várzea Alegre</td>\n",
       "      <td>1122</td>\n",
       "    </tr>\n",
       "    <tr>\n",
       "      <th>184</th>\n",
       "      <td>Viçosa do Ceará</td>\n",
       "      <td>2157</td>\n",
       "    </tr>\n",
       "  </tbody>\n",
       "</table>\n",
       "<p>184 rows × 2 columns</p>\n",
       "</div>"
      ],
      "text/plain": [
       "           minicipio  qtd_casos\n",
       "1            Abaiara        160\n",
       "2            Acarape       1949\n",
       "3             Acaraú       2760\n",
       "4           Acopiara       1366\n",
       "5             Aiuaba         76\n",
       "..               ...        ...\n",
       "180      Uruburetama        816\n",
       "181           Uruoca        659\n",
       "182          Varjota       1235\n",
       "183    Várzea Alegre       1122\n",
       "184  Viçosa do Ceará       2157\n",
       "\n",
       "[184 rows x 2 columns]"
      ]
     },
     "execution_count": 45,
     "metadata": {},
     "output_type": "execute_result"
    }
   ],
   "source": [
    "pd.DataFrame(df_casos).iloc[1:185]"
   ]
  },
  {
   "cell_type": "code",
   "execution_count": 54,
   "id": "419071a6",
   "metadata": {},
   "outputs": [],
   "source": [
    "dfData = []\n",
    "for data in df1['data'].unique():\n",
    "    dfAux = df1.query(f'data == \"{data}\"')\n",
    "    dfData.append({'Dia':data,'qtd_casos':dfAux['casosNovos'].sum()})"
   ]
  },
  {
   "cell_type": "code",
   "execution_count": 55,
   "id": "1e6af54e",
   "metadata": {},
   "outputs": [
    {
     "data": {
      "text/plain": [
       "<AxesSubplot:xlabel='Dia'>"
      ]
     },
     "execution_count": 55,
     "metadata": {},
     "output_type": "execute_result"
    },
    {
     "data": {
      "image/png": "[encoded data removed]",
      "text/plain": [
       "<Figure size 640x480 with 1 Axes>"
      ]
     },
     "metadata": {},
     "output_type": "display_data"
    }
   ],
   "source": [
    "pd.DataFrame(dfData).plot(x = 'Dia', y= 'qtd_casos')"
   ]
  },
  {
   "cell_type": "code",
   "execution_count": 44,
   "id": "6aa9aa8c",
   "metadata": {},
   "outputs": [
    {
     "data": {
      "text/html": [
       "<div>\n",
       "<style scoped>\n",
       "    .dataframe tbody tr th:only-of-type {\n",
       "        vertical-align: middle;\n",
       "    }\n",
       "\n",
       "    .dataframe tbody tr th {\n",
       "        vertical-align: top;\n",
       "    }\n",
       "\n",
       "    .dataframe thead th {\n",
       "        text-align: right;\n",
       "    }\n",
       "</style>\n",
       "<table border=\"1\" class=\"dataframe\">\n",
       "  <thead>\n",
       "    <tr style=\"text-align: right;\">\n",
       "      <th></th>\n",
       "      <th>minicipio</th>\n",
       "      <th>qtd_casos</th>\n",
       "    </tr>\n",
       "  </thead>\n",
       "  <tbody>\n",
       "    <tr>\n",
       "      <th>1</th>\n",
       "      <td>Abaiara</td>\n",
       "      <td>160</td>\n",
       "    </tr>\n",
       "    <tr>\n",
       "      <th>2</th>\n",
       "      <td>Acarape</td>\n",
       "      <td>1949</td>\n",
       "    </tr>\n",
       "    <tr>\n",
       "      <th>3</th>\n",
       "      <td>Acaraú</td>\n",
       "      <td>2760</td>\n",
       "    </tr>\n",
       "    <tr>\n",
       "      <th>4</th>\n",
       "      <td>Acopiara</td>\n",
       "      <td>1366</td>\n",
       "    </tr>\n",
       "    <tr>\n",
       "      <th>5</th>\n",
       "      <td>Aiuaba</td>\n",
       "      <td>76</td>\n",
       "    </tr>\n",
       "    <tr>\n",
       "      <th>...</th>\n",
       "      <td>...</td>\n",
       "      <td>...</td>\n",
       "    </tr>\n",
       "    <tr>\n",
       "      <th>180</th>\n",
       "      <td>Uruburetama</td>\n",
       "      <td>816</td>\n",
       "    </tr>\n",
       "    <tr>\n",
       "      <th>181</th>\n",
       "      <td>Uruoca</td>\n",
       "      <td>659</td>\n",
       "    </tr>\n",
       "    <tr>\n",
       "      <th>182</th>\n",
       "      <td>Varjota</td>\n",
       "      <td>1235</td>\n",
       "    </tr>\n",
       "    <tr>\n",
       "      <th>183</th>\n",
       "      <td>Várzea Alegre</td>\n",
       "      <td>1122</td>\n",
       "    </tr>\n",
       "    <tr>\n",
       "      <th>184</th>\n",
       "      <td>Viçosa do Ceará</td>\n",
       "      <td>2157</td>\n",
       "    </tr>\n",
       "  </tbody>\n",
       "</table>\n",
       "<p>184 rows × 2 columns</p>\n",
       "</div>"
      ],
      "text/plain": [
       "           minicipio  qtd_casos\n",
       "1            Abaiara        160\n",
       "2            Acarape       1949\n",
       "3             Acaraú       2760\n",
       "4           Acopiara       1366\n",
       "5             Aiuaba         76\n",
       "..               ...        ...\n",
       "180      Uruburetama        816\n",
       "181           Uruoca        659\n",
       "182          Varjota       1235\n",
       "183    Várzea Alegre       1122\n",
       "184  Viçosa do Ceará       2157\n",
       "\n",
       "[184 rows x 2 columns]"
      ]
     },
     "execution_count": 44,
     "metadata": {},
     "output_type": "execute_result"
    }
   ],
   "source": []
  },
  {
   "cell_type": "code",
   "execution_count": null,
   "id": "a52e5d68",
   "metadata": {},
   "outputs": [],
   "source": []
  },
  {
   "cell_type": "code",
   "execution_count": null,
   "id": "86381c7b",
   "metadata": {},
   "outputs": [],
   "source": []
  }
 ],
 "metadata": {
  "kernelspec": {
   "display_name": "Python 3 (ipykernel)",
   "language": "python",
   "name": "python3"
  },
  "language_info": {
   "codemirror_mode": {
    "name": "ipython",
    "version": 3
   },
   "file_extension": ".py",
   "mimetype": "text/x-python",
   "name": "python",
   "nbconvert_exporter": "python",
   "pygments_lexer": "ipython3",
   "version": "3.9.13"
  }
 },
 "nbformat": 4,
 "nbformat_minor": 5
}
