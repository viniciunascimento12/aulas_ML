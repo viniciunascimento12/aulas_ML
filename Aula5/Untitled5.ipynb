{
 "cells": [
  {
   "cell_type": "code",
   "execution_count": 6,
   "metadata": {},
   "outputs": [
    {
     "name": "stdout",
     "output_type": "stream",
     "text": [
      "Matriz de confusão:\n",
      "[[2 2]\n",
      " [3 3]]\n",
      "Acurácia:  0.5\n",
      "Precisão:  0.6\n",
      "Recall:  0.5\n",
      "F1-score:  0.5454545454545454\n"
     ]
    }
   ],
   "source": [
    "from sklearn.metrics import confusion_matrix, accuracy_score, precision_score, recall_score, f1_score\n",
    "\n",
    "# Classes verdadeiras\n",
    "y_true = [0, 1, 1, 0, 0, 1, 1, 1, 0, 1]\n",
    "\n",
    "# Classes previstas pelo modelo\n",
    "y_pred = [1, 1, 0, 0, 1, 1, 0, 1, 0, 0]\n",
    "\n",
    "# Calculando a matriz de confusão\n",
    "cm = confusion_matrix(y_true, y_pred)\n",
    "\n",
    "# Imprimindo a matriz de confusão\n",
    "print(\"Matriz de confusão:\")\n",
    "print(cm)\n",
    "\n",
    "# Calculando as métricas de avaliação\n",
    "accuracy = accuracy_score(y_true, y_pred)\n",
    "precision = precision_score(y_true, y_pred)\n",
    "recall = recall_score(y_true, y_pred)\n",
    "f1 = f1_score(y_true, y_pred)\n",
    "\n",
    "# Imprimindo as métricas de avaliação\n",
    "print(\"Acurácia: \", accuracy)\n",
    "print(\"Precisão: \", precision)\n",
    "print(\"Recall: \", recall)\n",
    "print(\"F1-score: \", f1)\n"
   ]
  },
  {
   "cell_type": "code",
   "execution_count": null,
   "metadata": {},
   "outputs": [],
   "source": []
  }
 ],
 "metadata": {
  "kernelspec": {
   "display_name": "Python 3",
   "language": "python",
   "name": "python3"
  },
  "language_info": {
   "codemirror_mode": {
    "name": "ipython",
    "version": 3
   },
   "file_extension": ".py",
   "mimetype": "text/x-python",
   "name": "python",
   "nbconvert_exporter": "python",
   "pygments_lexer": "ipython3",
   "version": "3.7.6"
  }
 },
 "nbformat": 4,
 "nbformat_minor": 4
}
