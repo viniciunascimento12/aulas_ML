{
 "cells": [
  {
   "cell_type": "code",
   "execution_count": 2,
   "metadata": {},
   "outputs": [
    {
     "name": "stdout",
     "output_type": "stream",
     "text": [
      "Scores: [1.0, 1.0, 0.8666666666666667, 1.0, 0.8666666666666667]\n",
      "Média: 0.9466666666666667\n"
     ]
    }
   ],
   "source": [
    "from sklearn.datasets import load_iris\n",
    "from sklearn.model_selection import KFold\n",
    "from sklearn.svm import SVC\n",
    "import numpy as np\n",
    "\n",
    "iris = load_iris()\n",
    "X = iris.data\n",
    "y = iris.target\n",
    "\n",
    "# Define o valor de k\n",
    "k = 5\n",
    "\n",
    "# Cria o objeto KFold\n",
    "kf = KFold(n_splits=k)\n",
    "\n",
    "# Cria o objeto SVM\n",
    "svm = SVC(kernel='linear')\n",
    "\n",
    "# Cria uma lista para armazenar os scores de cada fold\n",
    "scores = []\n",
    "\n",
    "# Realiza a validação cruzada\n",
    "for train_index, test_index in kf.split(X):\n",
    "    # Divide o conjunto de dados em treino e teste\n",
    "    X_train, X_test = X[train_index], X[test_index]\n",
    "    y_train, y_test = y[train_index], y[test_index]\n",
    "    \n",
    "    # Treina o modelo SVM\n",
    "    svm.fit(X_train, y_train)\n",
    "    \n",
    "    # Calcula o score do modelo no conjunto de teste\n",
    "    score = svm.score(X_test, y_test)\n",
    "    \n",
    "    # Armazena o score na lista\n",
    "    scores.append(score)\n",
    "\n",
    "# Calcula a média e o desvio padrão dos scores\n",
    "mean_score = np.mean(scores)\n",
    "std_score = np.std(scores)\n",
    "\n",
    "# Exibe os scores e a média\n",
    "print('Scores:', scores)\n",
    "print('Média:', mean_score)"
   ]
  },
  {
   "cell_type": "code",
   "execution_count": 3,
   "metadata": {},
   "outputs": [
    {
     "name": "stdout",
     "output_type": "stream",
     "text": [
      "Fold 1 - Score: 1.0\n",
      "Fold 2 - Score: 1.0\n",
      "Fold 3 - Score: 0.8666666666666667\n",
      "Fold 4 - Score: 1.0\n",
      "Fold 5 - Score: 0.8666666666666667\n",
      "Scores: [1.0, 1.0, 0.8666666666666667, 1.0, 0.8666666666666667]\n",
      "Média: 0.9466666666666667\n",
      "Desvio Padrão: 0.06531972647421806\n"
     ]
    },
    {
     "data": {
      "image/png": "[encoded data removed]",
      "text/plain": [
       "<Figure size 432x288 with 1 Axes>"
      ]
     },
     "metadata": {
      "needs_background": "light"
     },
     "output_type": "display_data"
    }
   ],
   "source": [
    "import matplotlib.pyplot as plt\n",
    "\n",
    "# Define o valor de k\n",
    "k = 5\n",
    "\n",
    "# Cria o objeto KFold\n",
    "kf = KFold(n_splits=k)\n",
    "\n",
    "# Cria o objeto SVM\n",
    "svm = SVC(kernel='linear')\n",
    "\n",
    "# Cria uma lista para armazenar os scores de cada fold\n",
    "scores = []\n",
    "\n",
    "# Realiza a validação cruzada\n",
    "for i, (train_index, test_index) in enumerate(kf.split(X)):\n",
    "    # Divide o conjunto de dados em treino e teste\n",
    "    X_train, X_test = X[train_index], X[test_index]\n",
    "    y_train, y_test = y[train_index], y[test_index]\n",
    "    \n",
    "    # Treina o modelo SVM\n",
    "    svm.fit(X_train, y_train)\n",
    "    \n",
    "    # Calcula o score do modelo no conjunto de teste\n",
    "    score = svm.score(X_test, y_test)\n",
    "    \n",
    "    # Armazena o score na lista\n",
    "    scores.append(score)\n",
    "    \n",
    "    # Exibe o score do fold atual\n",
    "    print(f\"Fold {i+1} - Score: {score}\")\n",
    "\n",
    "# Calcula a média e o desvio padrão dos scores\n",
    "mean_score = np.mean(scores)\n",
    "std_score = np.std(scores)\n",
    "\n",
    "# Exibe os scores e a média\n",
    "print('Scores:', scores)\n",
    "print('Média:', mean_score)\n",
    "print('Desvio Padrão:', std_score)\n",
    "\n",
    "# Cria um gráfico de barras para visualizar os scores de cada fold\n",
    "plt.bar(range(k), scores)\n",
    "plt.xlabel('Fold')\n",
    "plt.ylabel('Score')\n",
    "plt.title('Scores da validação cruzada por k-fold')\n",
    "plt.show()"
   ]
  },
  {
   "cell_type": "code",
   "execution_count": null,
   "metadata": {},
   "outputs": [],
   "source": []
  }
 ],
 "metadata": {
  "kernelspec": {
   "display_name": "Python 3",
   "language": "python",
   "name": "python3"
  },
  "language_info": {
   "codemirror_mode": {
    "name": "ipython",
    "version": 3
   },
   "file_extension": ".py",
   "mimetype": "text/x-python",
   "name": "python",
   "nbconvert_exporter": "python",
   "pygments_lexer": "ipython3",
   "version": "3.7.6"
  }
 },
 "nbformat": 4,
 "nbformat_minor": 4
}
