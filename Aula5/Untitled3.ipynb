{
 "cells": [
  {
   "cell_type": "code",
   "execution_count": 4,
   "metadata": {},
   "outputs": [
    {
     "name": "stdout",
     "output_type": "stream",
     "text": [
      "Acurácia: 70.00%\n"
     ]
    }
   ],
   "source": [
    "from sklearn.metrics import accuracy_score\n",
    "\n",
    "# Definindo os rótulos verdadeiros e as previsões do modelo\n",
    "y_true = [0, 1, 1, 0, 1, 0, 0, 1, 1, 1] # Rótulos verdadeiros\n",
    "y_pred = [0, 0, 1, 1, 1, 0, 0, 1, 0, 1] # Previsões do modelo\n",
    "\n",
    "# Calculando a acurácia\n",
    "acc = accuracy_score(y_true, y_pred)\n",
    "\n",
    "print(\"Acurácia: {:.2f}%\".format(acc * 100))"
   ]
  },
  {
   "cell_type": "code",
   "execution_count": null,
   "metadata": {},
   "outputs": [],
   "source": []
  }
 ],
 "metadata": {
  "kernelspec": {
   "display_name": "Python 3",
   "language": "python",
   "name": "python3"
  },
  "language_info": {
   "codemirror_mode": {
    "name": "ipython",
    "version": 3
   },
   "file_extension": ".py",
   "mimetype": "text/x-python",
   "name": "python",
   "nbconvert_exporter": "python",
   "pygments_lexer": "ipython3",
   "version": "3.7.6"
  }
 },
 "nbformat": 4,
 "nbformat_minor": 4
}
