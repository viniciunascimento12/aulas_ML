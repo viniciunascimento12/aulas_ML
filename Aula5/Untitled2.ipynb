{
 "cells": [
  {
   "cell_type": "code",
   "execution_count": 3,
   "metadata": {},
   "outputs": [
    {
     "name": "stdout",
     "output_type": "stream",
     "text": [
      "Scores: [0.9824561403508771, 0.9298245614035088, 0.9824561403508771, 0.9824561403508771, 0.8771929824561403, 0.9473684210526315, 0.9649122807017544, 0.9824561403508771, 0.9298245614035088, 0.9107142857142857]\n",
      "Média: 0.948966165413534\n"
     ]
    },
    {
     "name": "stderr",
     "output_type": "stream",
     "text": [
      "C:\\Users\\Vinicius\\anaconda3\\lib\\site-packages\\sklearn\\linear_model\\logistic.py:433: FutureWarning: Default solver will be changed to 'lbfgs' in 0.22. Specify a solver to silence this warning.\n",
      "  FutureWarning)\n",
      "C:\\Users\\Vinicius\\anaconda3\\lib\\site-packages\\sklearn\\linear_model\\logistic.py:433: FutureWarning: Default solver will be changed to 'lbfgs' in 0.22. Specify a solver to silence this warning.\n",
      "  FutureWarning)\n",
      "C:\\Users\\Vinicius\\anaconda3\\lib\\site-packages\\sklearn\\linear_model\\logistic.py:433: FutureWarning: Default solver will be changed to 'lbfgs' in 0.22. Specify a solver to silence this warning.\n",
      "  FutureWarning)\n",
      "C:\\Users\\Vinicius\\anaconda3\\lib\\site-packages\\sklearn\\linear_model\\logistic.py:433: FutureWarning: Default solver will be changed to 'lbfgs' in 0.22. Specify a solver to silence this warning.\n",
      "  FutureWarning)\n",
      "C:\\Users\\Vinicius\\anaconda3\\lib\\site-packages\\sklearn\\linear_model\\logistic.py:433: FutureWarning: Default solver will be changed to 'lbfgs' in 0.22. Specify a solver to silence this warning.\n",
      "  FutureWarning)\n",
      "C:\\Users\\Vinicius\\anaconda3\\lib\\site-packages\\sklearn\\linear_model\\logistic.py:433: FutureWarning: Default solver will be changed to 'lbfgs' in 0.22. Specify a solver to silence this warning.\n",
      "  FutureWarning)\n",
      "C:\\Users\\Vinicius\\anaconda3\\lib\\site-packages\\sklearn\\linear_model\\logistic.py:433: FutureWarning: Default solver will be changed to 'lbfgs' in 0.22. Specify a solver to silence this warning.\n",
      "  FutureWarning)\n",
      "C:\\Users\\Vinicius\\anaconda3\\lib\\site-packages\\sklearn\\linear_model\\logistic.py:433: FutureWarning: Default solver will be changed to 'lbfgs' in 0.22. Specify a solver to silence this warning.\n",
      "  FutureWarning)\n",
      "C:\\Users\\Vinicius\\anaconda3\\lib\\site-packages\\sklearn\\linear_model\\logistic.py:433: FutureWarning: Default solver will be changed to 'lbfgs' in 0.22. Specify a solver to silence this warning.\n",
      "  FutureWarning)\n",
      "C:\\Users\\Vinicius\\anaconda3\\lib\\site-packages\\sklearn\\linear_model\\logistic.py:433: FutureWarning: Default solver will be changed to 'lbfgs' in 0.22. Specify a solver to silence this warning.\n",
      "  FutureWarning)\n"
     ]
    }
   ],
   "source": [
    "from sklearn.datasets import load_breast_cancer  # Importa o conjunto de dados\n",
    "from sklearn.model_selection import KFold  # Importa a classe KFold para realizar a validação cruzada\n",
    "from sklearn.linear_model import LogisticRegression  # Importa o modelo Regressão Logística\n",
    "import numpy as np  # Importa a biblioteca NumPy para realizar operações matemáticas\n",
    "\n",
    "# Carrega o conjunto de dados de câncer de mama Wisconsin\n",
    "cancer = load_breast_cancer()\n",
    "\n",
    "# Divide os dados em variáveis X (atributos) e y (rótulos)\n",
    "X = cancer.data\n",
    "y = cancer.target\n",
    "\n",
    "# Define o valor de k para a validação cruzada\n",
    "k = 10\n",
    "\n",
    "# Cria o objeto KFold para realizar a validação cruzada por k-fold\n",
    "kf = KFold(n_splits=k, shuffle=True, random_state=42)\n",
    "\n",
    "# Cria o objeto Regressão Logística para treinar e avaliar o modelo\n",
    "lr = LogisticRegression()\n",
    "\n",
    "# Cria uma lista para armazenar os scores de cada fold\n",
    "scores = []\n",
    "\n",
    "# Realiza a validação cruzada\n",
    "for train_index, test_index in kf.split(X):\n",
    "    # Divide os dados em conjunto de treino e teste para cada fold\n",
    "    X_train, X_test = X[train_index], X[test_index]\n",
    "    y_train, y_test = y[train_index], y[test_index]\n",
    "    \n",
    "    # Treina o modelo Regressão Logística com os dados de treino\n",
    "    lr.fit(X_train, y_train)\n",
    "    \n",
    "    # Avalia o modelo Regressão Logística com os dados de teste e calcula o score\n",
    "    score = lr.score(X_test, y_test)\n",
    "    \n",
    "    # Armazena o score na lista de scores\n",
    "    scores.append(score)\n",
    "\n",
    "# Calcula a média e o desvio padrão dos scores\n",
    "mean_score = np.mean(scores)\n",
    "\n",
    "# Exibe os scores e a média com desvio padrão\n",
    "print('Scores:', scores)\n",
    "print('Média:', mean_score)"
   ]
  },
  {
   "cell_type": "code",
   "execution_count": null,
   "metadata": {},
   "outputs": [],
   "source": []
  }
 ],
 "metadata": {
  "kernelspec": {
   "display_name": "Python 3",
   "language": "python",
   "name": "python3"
  },
  "language_info": {
   "codemirror_mode": {
    "name": "ipython",
    "version": 3
   },
   "file_extension": ".py",
   "mimetype": "text/x-python",
   "name": "python",
   "nbconvert_exporter": "python",
   "pygments_lexer": "ipython3",
   "version": "3.7.6"
  }
 },
 "nbformat": 4,
 "nbformat_minor": 4
}
