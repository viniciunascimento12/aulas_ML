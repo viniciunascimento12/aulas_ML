{
 "cells": [
  {
   "cell_type": "code",
   "execution_count": 6,
   "id": "996d48ba",
   "metadata": {},
   "outputs": [
    {
     "name": "stdout",
     "output_type": "stream",
     "text": [
      "Sexo   F  M\n",
      "Idade      \n",
      "25     0  1\n",
      "30     1  0\n",
      "35     0  1\n",
      "40     0  1\n",
      "45     1  0\n",
      "50     1  0\n"
     ]
    }
   ],
   "source": [
    "import pandas as pd\n",
    "# Cria um DataFrame com alguns dados\n",
    "dados = {\n",
    "'Idade': [25, 30, 35, 40, 45, 50],\n",
    " 'Sexo': ['M', 'F', 'M', 'M', 'F', 'F']\n",
    "}\n",
    "df = pd.DataFrame(dados)\n",
    "# Cria a tabela de frequência\n",
    "tabela_freq = pd.crosstab(\n",
    "index=df[\"Idade\"],\n",
    "columns=df[\"Sexo\"]\n",
    ")\n",
    "print(tabela_freq)"
   ]
  },
  {
   "cell_type": "code",
   "execution_count": null,
   "id": "02500b1d",
   "metadata": {},
   "outputs": [],
   "source": []
  }
 ],
 "metadata": {
  "kernelspec": {
   "display_name": "Python 3 (ipykernel)",
   "language": "python",
   "name": "python3"
  },
  "language_info": {
   "codemirror_mode": {
    "name": "ipython",
    "version": 3
   },
   "file_extension": ".py",
   "mimetype": "text/x-python",
   "name": "python",
   "nbconvert_exporter": "python",
   "pygments_lexer": "ipython3",
   "version": "3.9.13"
  }
 },
 "nbformat": 4,
 "nbformat_minor": 5
}
