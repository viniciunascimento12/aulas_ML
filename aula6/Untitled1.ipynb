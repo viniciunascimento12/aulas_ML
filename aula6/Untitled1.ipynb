{
 "cells": [
  {
   "cell_type": "code",
   "execution_count": 1,
   "metadata": {},
   "outputs": [
    {
     "name": "stdout",
     "output_type": "stream",
     "text": [
      "        cor tamanho  preco\n",
      "0  vermelho       P     10\n",
      "1      azul       M     20\n",
      "2     verde       G     15\n",
      "3  vermelho       M     25\n",
      "4      azul       G     30\n",
      "   preco  cor_azul  cor_verde  cor_vermelho  tamanho_G  tamanho_M  tamanho_P\n",
      "0     10         0          0             1          0          0          1\n",
      "1     20         1          0             0          0          1          0\n",
      "2     15         0          1             0          1          0          0\n",
      "3     25         0          0             1          0          1          0\n",
      "4     30         1          0             0          1          0          0\n"
     ]
    }
   ],
   "source": [
    "import pandas as pd\n",
    "\n",
    "# Criar um DataFrame com variáveis categóricas\n",
    "df = pd.DataFrame({'cor': ['vermelho', 'azul', 'verde', 'vermelho', 'azul'],\n",
    "                   'tamanho': ['P', 'M', 'G', 'M', 'G'],\n",
    "                   'preco': [10, 20, 15, 25, 30]})\n",
    "\n",
    "# Imprimir o DataFrame original\n",
    "print(df)\n",
    "\n",
    "# Codificar as variáveis categóricas usando one-hot encoding\n",
    "df_encoded = pd.get_dummies(df, columns=['cor', 'tamanho'])\n",
    "\n",
    "# Imprimir o DataFrame com as variáveis categóricas codificadas\n",
    "print(df_encoded)"
   ]
  },
  {
   "cell_type": "code",
   "execution_count": 2,
   "metadata": {},
   "outputs": [
    {
     "name": "stdout",
     "output_type": "stream",
     "text": [
      "        cor tamanho  preco\n",
      "0  vermelho       P     10\n",
      "1      azul       M     20\n",
      "2     verde       G     15\n",
      "3  vermelho       M     25\n",
      "4      azul       G     30\n",
      "   preco  cor_vermelho  cor_azul  cor_verde  tamanho_P  tamanho_M  tamanho_G\n",
      "0     10           0.0       0.0        1.0        0.0        0.0        1.0\n",
      "1     20           1.0       0.0        0.0        0.0        1.0        0.0\n",
      "2     15           0.0       1.0        0.0        1.0        0.0        0.0\n",
      "3     25           0.0       0.0        1.0        0.0        1.0        0.0\n",
      "4     30           1.0       0.0        0.0        1.0        0.0        0.0\n"
     ]
    },
    {
     "name": "stderr",
     "output_type": "stream",
     "text": [
      "C:\\Users\\Vinicius\\anaconda3\\lib\\site-packages\\sklearn\\preprocessing\\_encoders.py:371: FutureWarning: The handling of integer data will change in version 0.22. Currently, the categories are determined based on the range [0, max(values)], while in the future they will be determined based on the unique values.\n",
      "If you want the future behaviour and silence this warning, you can specify \"categories='auto'\".\n",
      "In case you used a LabelEncoder before this OneHotEncoder to convert the categories to integers, then you can now use the OneHotEncoder directly.\n",
      "  warnings.warn(msg, FutureWarning)\n"
     ]
    }
   ],
   "source": [
    "from sklearn.preprocessing import LabelEncoder, OneHotEncoder\n",
    "import pandas as pd\n",
    "\n",
    "# Criar um DataFrame com variáveis categóricas\n",
    "df = pd.DataFrame({'cor': ['vermelho', 'azul', 'verde', 'vermelho', 'azul'],\n",
    "                   'tamanho': ['P', 'M', 'G', 'M', 'G'],\n",
    "                   'preco': [10, 20, 15, 25, 30]})\n",
    "\n",
    "# Imprimir o DataFrame original\n",
    "print(df)\n",
    "\n",
    "# Codificar as variáveis categóricas usando LabelEncoder e OneHotEncoder\n",
    "le = LabelEncoder()\n",
    "ohe = OneHotEncoder(sparse=False)\n",
    "\n",
    "df['cor_encoded'] = le.fit_transform(df['cor'])\n",
    "df['tamanho_encoded'] = le.fit_transform(df['tamanho'])\n",
    "\n",
    "encoded_cols = ohe.fit_transform(df[['cor_encoded', 'tamanho_encoded']])\n",
    "df_encoded = pd.concat([df, pd.DataFrame(encoded_cols)], axis=1)\n",
    "\n",
    "df_encoded.rename(columns={0: 'cor_vermelho', 1: 'cor_azul', 2: 'cor_verde',\n",
    "                            3: 'tamanho_P', 4: 'tamanho_M', 5: 'tamanho_G'},\n",
    "                   inplace=True)\n",
    "\n",
    "df_encoded.drop(['cor', 'tamanho', 'cor_encoded', 'tamanho_encoded'], axis=1, inplace=True)\n",
    "\n",
    "# Imprimir o DataFrame com as variáveis categóricas codificadas\n",
    "print(df_encoded)"
   ]
  },
  {
   "cell_type": "code",
   "execution_count": null,
   "metadata": {},
   "outputs": [],
   "source": []
  }
 ],
 "metadata": {
  "kernelspec": {
   "display_name": "Python 3",
   "language": "python",
   "name": "python3"
  },
  "language_info": {
   "codemirror_mode": {
    "name": "ipython",
    "version": 3
   },
   "file_extension": ".py",
   "mimetype": "text/x-python",
   "name": "python",
   "nbconvert_exporter": "python",
   "pygments_lexer": "ipython3",
   "version": "3.7.6"
  }
 },
 "nbformat": 4,
 "nbformat_minor": 4
}
