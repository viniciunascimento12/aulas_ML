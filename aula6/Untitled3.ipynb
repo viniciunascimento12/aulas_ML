{
 "cells": [
  {
   "cell_type": "code",
   "execution_count": 5,
   "metadata": {},
   "outputs": [
    {
     "name": "stdout",
     "output_type": "stream",
     "text": [
      "Preço previsto: 21036.73\n"
     ]
    },
    {
     "name": "stderr",
     "output_type": "stream",
     "text": [
      "C:\\Users\\Londres27\\anaconda3\\lib\\site-packages\\sklearn\\base.py:450: UserWarning: X does not have valid feature names, but LinearRegression was fitted with feature names\n",
      "  warnings.warn(\n"
     ]
    }
   ],
   "source": [
    "import pandas as pd\n",
    "from sklearn.linear_model import LinearRegression\n",
    "from sklearn.preprocessing import LabelEncoder\n",
    "\n",
    "# Criar um conjunto de dados fictício\n",
    "data = {\n",
    "    'marca': ['Ford', 'Toyota', 'Chevrolet', 'Honda', 'Toyota', 'Ford'],\n",
    "    'ano': [2018, 2016, 2015, 2017, 2018, 2016],\n",
    "    'km': [50000, 70000, 30000, 20000, 40000, 60000],\n",
    "    'preco': [20000, 18000, 15000, 22000, 21000, 19000]\n",
    "}\n",
    "\n",
    "# Converter o dicionário em um DataFrame do Pandas\n",
    "car_data = pd.DataFrame(data)\n",
    "\n",
    "# Codificar a variável categórica \"marca\"\n",
    "le = LabelEncoder()\n",
    "car_data['marca_encoded'] = le.fit_transform(car_data['marca'])\n",
    "\n",
    "# Selecionar as variáveis relevantes para a regressão\n",
    "X = car_data[['marca_encoded', 'ano', 'km']]\n",
    "y = car_data['preco']\n",
    "\n",
    "# Criar uma instância do modelo de regressão linear\n",
    "model = LinearRegression()\n",
    "\n",
    "# Treinar o modelo com os dados\n",
    "model.fit(X, y)\n",
    "\n",
    "# Fazer uma previsão para um carro hipotético\n",
    "novo_carro = [[2, 2018, 50000]]\n",
    "preco_previsto = model.predict(novo_carro)\n",
    "\n",
    "# Imprimir o preço previsto\n",
    "print(f\"Preço previsto: {preco_previsto[0]:.2f}\")"
   ]
  },
  {
   "cell_type": "code",
   "execution_count": null,
   "metadata": {},
   "outputs": [],
   "source": []
  },
  {
   "cell_type": "code",
   "execution_count": null,
   "metadata": {},
   "outputs": [],
   "source": []
  }
 ],
 "metadata": {
  "kernelspec": {
   "display_name": "Python 3 (ipykernel)",
   "language": "python",
   "name": "python3"
  },
  "language_info": {
   "codemirror_mode": {
    "name": "ipython",
    "version": 3
   },
   "file_extension": ".py",
   "mimetype": "text/x-python",
   "name": "python",
   "nbconvert_exporter": "python",
   "pygments_lexer": "ipython3",
   "version": "3.9.13"
  }
 },
 "nbformat": 4,
 "nbformat_minor": 4
}
