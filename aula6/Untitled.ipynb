{
 "cells": [
  {
   "cell_type": "code",
   "execution_count": 1,
   "metadata": {},
   "outputs": [
    {
     "name": "stdout",
     "output_type": "stream",
     "text": [
      "     A    B     C     D\n",
      "0  1.0  5.0   NaN  13.0\n",
      "1  2.0  NaN  10.0  14.0\n",
      "2  NaN  7.0  11.0  15.0\n",
      "3  4.0  8.0  12.0   NaN\n",
      "          A         B     C     D\n",
      "0  1.000000  5.000000  11.0  13.0\n",
      "1  2.000000  6.666667  10.0  14.0\n",
      "2  2.333333  7.000000  11.0  15.0\n",
      "3  4.000000  8.000000  12.0  14.0\n"
     ]
    }
   ],
   "source": [
    "import pandas as pd\n",
    "import numpy as np\n",
    "\n",
    "# Criar um DataFrame com valores faltantes\n",
    "df = pd.DataFrame({'A': [1, 2, np.nan, 4],\n",
    "                   'B': [5, np.nan, 7, 8],\n",
    "                   'C': [np.nan, 10, 11, 12],\n",
    "                   'D': [13, 14, 15, np.nan]})\n",
    "\n",
    "# Imprimir o DataFrame original\n",
    "print(df)\n",
    "\n",
    "# Substituir valores faltantes com a média da coluna\n",
    "df.fillna(df.mean(), inplace=True)\n",
    "\n",
    "# Imprimir o DataFrame com os valores faltantes substituídos\n",
    "print(df)"
   ]
  },
  {
   "cell_type": "code",
   "execution_count": 4,
   "metadata": {},
   "outputs": [
    {
     "name": "stdout",
     "output_type": "stream",
     "text": [
      "[[ 1.  2. nan]\n",
      " [ 3. nan  4.]\n",
      " [ 5.  6.  7.]]\n",
      "[[1.  2.  5.5]\n",
      " [3.  4.  4. ]\n",
      " [5.  6.  7. ]]\n"
     ]
    }
   ],
   "source": [
    "from sklearn.impute import SimpleImputer\n",
    "import numpy as np\n",
    "import pandas as pd\n",
    "# Criar uma matriz com valores faltantes\n",
    "X = np.array([[1, 2, np.nan],\n",
    "              [3, np.nan, 4],\n",
    "              [5, 6, 7]])\n",
    "\n",
    "# Criar um imputador simples e substituir os valores faltantes pela média\n",
    "imp = SimpleImputer(strategy='mean')\n",
    "X_imputed = imp.fit_transform(X)\n",
    "\n",
    "# Imprimir a matriz original\n",
    "print(X)\n",
    "\n",
    "# Imprimir a matriz com os valores faltantes substituídos\n",
    "print(X_imputed)"
   ]
  },
  {
   "cell_type": "code",
   "execution_count": 9,
   "metadata": {},
   "outputs": [
    {
     "data": {
      "text/plain": [
       "array([[ 1.,  2., nan],\n",
       "       [ 3., nan,  4.],\n",
       "       [ 5.,  6.,  7.]])"
      ]
     },
     "execution_count": 9,
     "metadata": {},
     "output_type": "execute_result"
    }
   ],
   "source": [
    "pd.DataFrame(X).values"
   ]
  },
  {
   "cell_type": "code",
   "execution_count": null,
   "metadata": {},
   "outputs": [],
   "source": []
  }
 ],
 "metadata": {
  "kernelspec": {
   "display_name": "Python 3 (ipykernel)",
   "language": "python",
   "name": "python3"
  },
  "language_info": {
   "codemirror_mode": {
    "name": "ipython",
    "version": 3
   },
   "file_extension": ".py",
   "mimetype": "text/x-python",
   "name": "python",
   "nbconvert_exporter": "python",
   "pygments_lexer": "ipython3",
   "version": "3.9.13"
  }
 },
 "nbformat": 4,
 "nbformat_minor": 4
}
