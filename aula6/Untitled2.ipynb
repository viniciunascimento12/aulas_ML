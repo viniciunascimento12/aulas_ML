{
 "cells": [
  {
   "cell_type": "code",
   "execution_count": 1,
   "metadata": {},
   "outputs": [
    {
     "name": "stdout",
     "output_type": "stream",
     "text": [
      "    fruta  fruta_encoded\n",
      "0  banana              0\n",
      "1    maçã              1\n",
      "2    maçã              1\n",
      "3     uva              2\n",
      "4  banana              0\n",
      "5     uva              2\n"
     ]
    }
   ],
   "source": [
    "from sklearn.preprocessing import LabelEncoder\n",
    "import pandas as pd\n",
    "\n",
    "# Criar um DataFrame com variáveis categóricas\n",
    "df = pd.DataFrame({'fruta': ['banana', 'maçã', 'maçã', 'uva', 'banana', 'uva']})\n",
    "\n",
    "# Criar uma instância do LabelEncoder\n",
    "le = LabelEncoder()\n",
    "\n",
    "# Codificar a variável categórica\n",
    "df['fruta_encoded'] = le.fit_transform(df['fruta'])\n",
    "\n",
    "# Imprimir o DataFrame com a variável categórica codificada\n",
    "print(df)"
   ]
  },
  {
   "cell_type": "code",
   "execution_count": null,
   "metadata": {},
   "outputs": [],
   "source": []
  }
 ],
 "metadata": {
  "kernelspec": {
   "display_name": "Python 3 (ipykernel)",
   "language": "python",
   "name": "python3"
  },
  "language_info": {
   "codemirror_mode": {
    "name": "ipython",
    "version": 3
   },
   "file_extension": ".py",
   "mimetype": "text/x-python",
   "name": "python",
   "nbconvert_exporter": "python",
   "pygments_lexer": "ipython3",
   "version": "3.9.13"
  }
 },
 "nbformat": 4,
 "nbformat_minor": 4
}
