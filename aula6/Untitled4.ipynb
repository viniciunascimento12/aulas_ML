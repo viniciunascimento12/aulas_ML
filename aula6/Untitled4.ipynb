{
 "cells": [
  {
   "cell_type": "code",
   "execution_count": 8,
   "metadata": {},
   "outputs": [
    {
     "name": "stdout",
     "output_type": "stream",
     "text": [
      "Preço previsto: 20000.00\n"
     ]
    },
    {
     "name": "stderr",
     "output_type": "stream",
     "text": [
      "C:\\Users\\Londres27\\anaconda3\\lib\\site-packages\\sklearn\\utils\\deprecation.py:87: FutureWarning: Function get_feature_names is deprecated; get_feature_names is deprecated in 1.0 and will be removed in 1.2. Please use get_feature_names_out instead.\n",
      "  warnings.warn(msg, category=FutureWarning)\n",
      "C:\\Users\\Londres27\\anaconda3\\lib\\site-packages\\sklearn\\base.py:450: UserWarning: X does not have valid feature names, but LinearRegression was fitted with feature names\n",
      "  warnings.warn(\n"
     ]
    }
   ],
   "source": [
    "import pandas as pd\n",
    "from sklearn.linear_model import LinearRegression\n",
    "from sklearn.preprocessing import OneHotEncoder\n",
    "\n",
    "# Criar um conjunto de dados fictício\n",
    "data = {\n",
    "    'marca': ['Ford', 'Toyota', 'Chevrolet', 'Honda', 'Toyota', 'Ford'],\n",
    "    'ano': [2018, 2016, 2015, 2017, 2018, 2016],\n",
    "    'km': [50000, 70000, 30000, 20000, 40000, 60000],\n",
    "    'preco': [20000, 18000, 15000, 22000, 21000, 19000]\n",
    "}\n",
    "\n",
    "# Converter o dicionário em um DataFrame do Pandas\n",
    "car_data = pd.DataFrame(data)\n",
    "\n",
    "# Aplicar One-Hot Encoding na variável categórica \"marca\"\n",
    "onehot = OneHotEncoder()\n",
    "marca_encoded = onehot.fit_transform(car_data[['marca']])\n",
    "marca_encoded_df = pd.DataFrame(marca_encoded.toarray(), columns=onehot.get_feature_names())\n",
    "car_data = pd.concat([car_data, marca_encoded_df], axis=1)\n",
    "\n",
    "# Selecionar as variáveis relevantes para a regressão\n",
    "X = car_data[['x0_Chevrolet', 'x0_Ford', 'x0_Honda', 'x0_Toyota', 'ano', 'km']]\n",
    "y = car_data['preco']\n",
    "\n",
    "# Criar uma instância do modelo de regressão linear\n",
    "model = LinearRegression()\n",
    "model.fit(X, y)\n",
    "novo_carro = [[0, 0, 0, 1, 2018, 50000]]\n",
    "preco_previsto = model.predict(novo_carro)\n",
    "\n",
    "print(f\"Preço previsto: {preco_previsto[0]:.2f}\")\n"
   ]
  },
  {
   "cell_type": "code",
   "execution_count": 6,
   "metadata": {},
   "outputs": [
    {
     "data": {
      "text/html": [
       "<div>\n",
       "<style scoped>\n",
       "    .dataframe tbody tr th:only-of-type {\n",
       "        vertical-align: middle;\n",
       "    }\n",
       "\n",
       "    .dataframe tbody tr th {\n",
       "        vertical-align: top;\n",
       "    }\n",
       "\n",
       "    .dataframe thead th {\n",
       "        text-align: right;\n",
       "    }\n",
       "</style>\n",
       "<table border=\"1\" class=\"dataframe\">\n",
       "  <thead>\n",
       "    <tr style=\"text-align: right;\">\n",
       "      <th></th>\n",
       "      <th>marca</th>\n",
       "      <th>ano</th>\n",
       "      <th>km</th>\n",
       "      <th>preco</th>\n",
       "      <th>x0_Chevrolet</th>\n",
       "      <th>x0_Ford</th>\n",
       "      <th>x0_Honda</th>\n",
       "      <th>x0_Toyota</th>\n",
       "    </tr>\n",
       "  </thead>\n",
       "  <tbody>\n",
       "    <tr>\n",
       "      <th>0</th>\n",
       "      <td>Ford</td>\n",
       "      <td>2018</td>\n",
       "      <td>50000</td>\n",
       "      <td>20000</td>\n",
       "      <td>0.0</td>\n",
       "      <td>1.0</td>\n",
       "      <td>0.0</td>\n",
       "      <td>0.0</td>\n",
       "    </tr>\n",
       "    <tr>\n",
       "      <th>1</th>\n",
       "      <td>Toyota</td>\n",
       "      <td>2016</td>\n",
       "      <td>70000</td>\n",
       "      <td>18000</td>\n",
       "      <td>0.0</td>\n",
       "      <td>0.0</td>\n",
       "      <td>0.0</td>\n",
       "      <td>1.0</td>\n",
       "    </tr>\n",
       "    <tr>\n",
       "      <th>2</th>\n",
       "      <td>Chevrolet</td>\n",
       "      <td>2015</td>\n",
       "      <td>30000</td>\n",
       "      <td>15000</td>\n",
       "      <td>1.0</td>\n",
       "      <td>0.0</td>\n",
       "      <td>0.0</td>\n",
       "      <td>0.0</td>\n",
       "    </tr>\n",
       "    <tr>\n",
       "      <th>3</th>\n",
       "      <td>Honda</td>\n",
       "      <td>2017</td>\n",
       "      <td>20000</td>\n",
       "      <td>22000</td>\n",
       "      <td>0.0</td>\n",
       "      <td>0.0</td>\n",
       "      <td>1.0</td>\n",
       "      <td>0.0</td>\n",
       "    </tr>\n",
       "    <tr>\n",
       "      <th>4</th>\n",
       "      <td>Toyota</td>\n",
       "      <td>2018</td>\n",
       "      <td>40000</td>\n",
       "      <td>21000</td>\n",
       "      <td>0.0</td>\n",
       "      <td>0.0</td>\n",
       "      <td>0.0</td>\n",
       "      <td>1.0</td>\n",
       "    </tr>\n",
       "    <tr>\n",
       "      <th>5</th>\n",
       "      <td>Ford</td>\n",
       "      <td>2016</td>\n",
       "      <td>60000</td>\n",
       "      <td>19000</td>\n",
       "      <td>0.0</td>\n",
       "      <td>1.0</td>\n",
       "      <td>0.0</td>\n",
       "      <td>0.0</td>\n",
       "    </tr>\n",
       "  </tbody>\n",
       "</table>\n",
       "</div>"
      ],
      "text/plain": [
       "       marca   ano     km  preco  x0_Chevrolet  x0_Ford  x0_Honda  x0_Toyota\n",
       "0       Ford  2018  50000  20000           0.0      1.0       0.0        0.0\n",
       "1     Toyota  2016  70000  18000           0.0      0.0       0.0        1.0\n",
       "2  Chevrolet  2015  30000  15000           1.0      0.0       0.0        0.0\n",
       "3      Honda  2017  20000  22000           0.0      0.0       1.0        0.0\n",
       "4     Toyota  2018  40000  21000           0.0      0.0       0.0        1.0\n",
       "5       Ford  2016  60000  19000           0.0      1.0       0.0        0.0"
      ]
     },
     "execution_count": 6,
     "metadata": {},
     "output_type": "execute_result"
    }
   ],
   "source": [
    "car_data"
   ]
  },
  {
   "cell_type": "code",
   "execution_count": null,
   "metadata": {},
   "outputs": [],
   "source": []
  }
 ],
 "metadata": {
  "kernelspec": {
   "display_name": "Python 3 (ipykernel)",
   "language": "python",
   "name": "python3"
  },
  "language_info": {
   "codemirror_mode": {
    "name": "ipython",
    "version": 3
   },
   "file_extension": ".py",
   "mimetype": "text/x-python",
   "name": "python",
   "nbconvert_exporter": "python",
   "pygments_lexer": "ipython3",
   "version": "3.9.13"
  }
 },
 "nbformat": 4,
 "nbformat_minor": 4
}
